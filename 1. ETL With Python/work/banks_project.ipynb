{
 "cells": [
  {
   "cell_type": "markdown",
   "metadata": {},
   "source": [
    "# **Saylani Mass Training Program**\n",
    "### **Cloud Data Engineering Module by Qasim Hassan**"
   ]
  },
  {
   "cell_type": "markdown",
   "metadata": {},
   "source": [
    "#### A basice Extract, Transform and Load (ETL) pipeline using web scrapping, pandas and sql"
   ]
  },
  {
   "cell_type": "markdown",
   "metadata": {},
   "source": [
    "#### Import necessary Libraries"
   ]
  },
  {
   "cell_type": "code",
   "execution_count": null,
   "metadata": {},
   "outputs": [],
   "source": [
    "!pip install icecream"
   ]
  },
  {
   "cell_type": "code",
   "execution_count": 1,
   "metadata": {},
   "outputs": [],
   "source": [
    "from io import StringIO #html ka data extract for string\n",
    "import requests # kisi bhi web par request kaliya\n",
    "from bs4 import BeautifulSoup # for scraping the web\n",
    "import pandas as pd # transformation for currency\n",
    "import sqlite3 # Data base hain python ki  basic hain\n",
    "from datetime import datetime # for logs like date likhay gain\n",
    "import logging\n",
    "# from icecream import ic #printing may kam karta hain"
   ]
  },
  {
   "cell_type": "markdown",
   "metadata": {},
   "source": [
    "#### Step 0: Maintaining a Log File\n",
    "This step is done to record the logs while performing ETL and it is not neccessary in an ETL Pipeline"
   ]
  },
  {
   "cell_type": "code",
   "execution_count": null,
   "metadata": {},
   "outputs": [],
   "source": [
    "import os\n",
    "from datetime import datetime\n",
    "\n",
    "def log_progress(message):\n",
    "    \"\"\"This function logs the mentioned message of a given stage of the\n",
    "    code execution to a log file. Function returns nothing.\n",
    "    \n",
    "    Also, it catches any errors during the logging process.\n",
    "    \"\"\"\n",
    "    try:\n",
    "        # Check if the 'logs' directory exists; if not, create it.\n",
    "        if not os.path.exists('./logs'):\n",
    "            os.makedirs('./logs')\n",
    "\n",
    "        # Open the log file and write the log message.\n",
    "        with open('./logs/code_log.txt', 'a') as f:\n",
    "            f.write(f'{datetime.now()}: {message}\\n')\n",
    "\n",
    "    except Exception as e:\n",
    "        # Handle any exceptions that occur during logging\n",
    "        error_message = f\"Logging error at {datetime.now()}: {str(e)}\"\n",
    "        try:\n",
    "            # Attempt to log the error message into a separate error log file\n",
    "            with open('./logs/error_log.txt', 'a') as error_f:\n",
    "                error_f.write(f'{error_message}\\n')\n",
    "        except Exception as inner_e:\n",
    "            # If error logging itself fails, print to the console as a last resort\n",
    "            print(f\"Failed to log error: {str(inner_e)}\")\n"
   ]
  },
  {
   "cell_type": "markdown",
   "metadata": {},
   "source": [
    "#### Step 1: Extract"
   ]
  },
  {
   "cell_type": "code",
   "execution_count": null,
   "metadata": {},
   "outputs": [],
   "source": [
    "# url = \"https://en.wikipedia.org/wiki/List_of_largest_banks\"\n",
    "# table_attribs = 'By market capitalization'\n",
    "\n",
    "# soup = BeautifulSoup(requests.get(url).text, 'html.parser') # html format \n",
    "# table = soup.find('span', string=table_attribs).find_next('table') # capital ka data lakar araha, table ki form may karrahi\n",
    "# df = pd.read_html(StringIO(str(table)))[0] # string then save in df \n",
    "# pd is panda"
   ]
  },
  {
   "cell_type": "code",
   "execution_count": null,
   "metadata": {},
   "outputs": [],
   "source": [
    "def extract(url, table_attribs):\n",
    "    \"\"\" \n",
    "    This function extracts information from the website and returns a DataFrame. \n",
    "    \"\"\"\n",
    "    try:\n",
    "        # Request the webpage and parse it\n",
    "        response = requests.get(url)\n",
    "        response.raise_for_status()  # Check for HTTP errors\n",
    "        soup = BeautifulSoup(response.text, 'html.parser')\n",
    "\n",
    "        # Find the table and extract it into a DataFrame\n",
    "        table = soup.find('span', string=table_attribs).find_next('table')\n",
    "        df = pd.read_html(StringIO(str(table)))[0]\n",
    "\n",
    "        log_progress('Data extraction complete.')\n",
    "\n",
    "        return df\n",
    "\n",
    "    except Exception as e:\n",
    "        logging.error(f\"Error: {e}\")\n",
    "        return None"
   ]
  },
  {
   "cell_type": "markdown",
   "metadata": {},
   "source": [
    "#### Step 2: Transform"
   ]
  },
  {
   "cell_type": "code",
   "execution_count": null,
   "metadata": {},
   "outputs": [],
   "source": [
    "# csv_path = './input/exchange_rate.csv'\n",
    "# exchange_rate = pd.read_csv(csv_path, index_col=0).to_dict()['Rate'] # read convert in dict and nikalo rate only\n",
    "\n",
    "# df['MC_GBP_Billion'] = round(df['Market cap (US$ billion)'] * exchange_rate['GBP'], 2)\n",
    "# df['MC_EUR_Billion'] = round(df['Market cap (US$ billion)'] * exchange_rate['EUR'], 2)\n",
    "# df['MC_INR_Billion'] = round(df['Market cap (US$ billion)'] * exchange_rate['INR'], 2)\n",
    "# df['MC_PKR_Billion'] = round(df['Market cap (US$ billion)'] * exchange_rate['PKR'], 2)"
   ]
  },
  {
   "cell_type": "code",
   "execution_count": null,
   "metadata": {},
   "outputs": [],
   "source": [
    "def transform(df, csv_path):\n",
    "    \"\"\" \n",
    "    This function accesses the CSV file for exchange rate\n",
    "    information, and adds three columns to the data frame, each\n",
    "    containing the transformed version of Market Cap column to\n",
    "    respective currencies.\n",
    "    \"\"\"\n",
    "    try:\n",
    "        # Read the exchange rate CSV file\n",
    "        exchange_rate = pd.read_csv(csv_path, index_col=0).to_dict()['Rate']\n",
    "\n",
    "    except FileNotFoundError:\n",
    "        print(f\"Error: The file at {csv_path} was not found.\")\n",
    "        return None  # or handle as appropriate\n",
    "    except pd.errors.EmptyDataError:\n",
    "        print(f\"Error: The file at {csv_path} is empty.\")\n",
    "        return None\n",
    "    except Exception as e:\n",
    "        print(f\"An unexpected error occurred while reading the file: {e}\")\n",
    "        return None\n",
    "\n",
    "    try:\n",
    "        # Perform transformation\n",
    "        df['MC_GBP_Billion'] = round(df['Market cap (US$ billion)'] * exchange_rate['GBP'], 2)\n",
    "        df['MC_EUR_Billion'] = round(df['Market cap (US$ billion)'] * exchange_rate['EUR'], 2)\n",
    "        df['MC_INR_Billion'] = round(df['Market cap (US$ billion)'] * exchange_rate['INR'], 2)\n",
    "        df['MC_PKR_Billion'] = round(df['Market cap (US$ billion)'] * exchange_rate['PKR'], 2)\n",
    "\n",
    "    except KeyError as e:\n",
    "        print(f\"Error: Missing currency rate for {e}.\")\n",
    "        return None  # or handle as appropriate\n",
    "    except Exception as e:\n",
    "        print(f\"An error occurred during transformation: {e}\")\n",
    "        return None\n",
    "\n",
    "    print(df)\n",
    "\n",
    "    log_progress('Data transformation complete. Initiating Loading process')\n",
    "\n",
    "    return df\n"
   ]
  },
  {
   "cell_type": "markdown",
   "metadata": {},
   "source": [
    "#### Step 3: Load"
   ]
  },
  {
   "cell_type": "markdown",
   "metadata": {},
   "source": [
    "Loading data to a CSV"
   ]
  },
  {
   "cell_type": "code",
   "execution_count": null,
   "metadata": {},
   "outputs": [],
   "source": [
    "\n",
    "# output_path = \"./output/Largest_banks_data.csv\"\n",
    "# df.to_csv(output_path)"
   ]
  },
  {
   "cell_type": "code",
   "execution_count": null,
   "metadata": {},
   "outputs": [],
   "source": [
    "def load_to_csv(df, output_path):\n",
    "    \"\"\" This function saves the final data frame as a CSV file in\n",
    "    the provided path. Function returns nothing.\"\"\"\n",
    "    \n",
    "    try:\n",
    "        df.to_csv(output_path)\n",
    "        log_progress('Data saved to CSV file')\n",
    "    except Exception as e:\n",
    "        log_progress(f\"Error occurred while saving data to CSV: {e}\")\n"
   ]
  },
  {
   "cell_type": "markdown",
   "metadata": {},
   "source": [
    "Loading data to SQL"
   ]
  },
  {
   "cell_type": "code",
   "execution_count": null,
   "metadata": {},
   "outputs": [],
   "source": [
    "def load_to_db(df, sql_connection, table_name):\n",
    "    \"\"\" This function saves the final data frame to a database\n",
    "    table with the provided name. Function returns nothing.\"\"\"\n",
    "    \n",
    "    try:\n",
    "        df.to_sql(table_name, sql_connection, if_exists='replace', index=False)\n",
    "        log_progress('Data loaded to Database as a table, Executing queries')\n",
    "    except Exception as e:\n",
    "        log_progress(f\"Error occurred while loading data to database: {e}\")\n",
    "        # Optionally, re-raise the error if you want it to propagate\n",
    "        # raise e\n",
    "\n",
    "\n",
    "def run_query(query_statement, sql_connection):\n",
    "    \"\"\" This function runs the query on the database table and\n",
    "    prints the output on the terminal. Function returns nothing. \"\"\"\n",
    "    \n",
    "    try:\n",
    "        cursor = sql_connection.cursor()\n",
    "        cursor.execute(query_statement)\n",
    "        result = cursor.fetchall()\n",
    "        log_progress('Process Complete')\n",
    "        return result\n",
    "    except Exception as e:\n",
    "        log_progress(f\"Error occurred while executing query: {e}\")\n",
    "        # Optionally, re-raise the error if needed\n",
    "        # raise e\n"
   ]
  },
  {
   "cell_type": "markdown",
   "metadata": {},
   "source": [
    "### Executing Pipeline"
   ]
  },
  {
   "cell_type": "code",
   "execution_count": null,
   "metadata": {},
   "outputs": [],
   "source": [
    "if __name__ == '__main__':  # main code meray yaha par chalay ga\n",
    "    url = 'https://web.archive.org/web/20230908091635/https://en.wikipedia.org/wiki/List_of_largest_banks'\n",
    "    output_csv_path = './output/Largest_banks_data.csv'\n",
    "    database_name = './output/Banks.db'\n",
    "    table_name = 'Largest_banks'\n",
    "    \n",
    "    try:\n",
    "        log_progress('Preliminaries complete. Initiating ETL process')\n",
    "\n",
    "        # Extract data from the URL\n",
    "        df = extract(url, 'By market capitalization')\n",
    "\n",
    "        # Transform the data\n",
    "        transform(df, './input/exchange_rate.csv')\n",
    "\n",
    "        # Load data to CSV\n",
    "        load_to_csv(df, output_csv_path)\n",
    "\n",
    "        # Connect to SQLite database and load data\n",
    "        with sqlite3.connect(database_name) as conn:\n",
    "            load_to_db(df, conn, table_name)\n",
    "\n",
    "            # Run queries and print the results\n",
    "            print(run_query('SELECT * FROM Largest_banks', conn))\n",
    "            print(run_query('SELECT AVG(MC_GBP_Billion) FROM Largest_banks', conn))\n",
    "            print(run_query('SELECT \"Bank name\" FROM Largest_banks LIMIT 5', conn))\n",
    "\n",
    "    except Exception as e:\n",
    "        log_progress(f\"Error occurred during the ETL pipeline execution: {e}\")\n",
    "        # Optionally, re-raise the exception if you want to propagate it further\n",
    "        # raise e\n"
   ]
  },
  {
   "cell_type": "code",
   "execution_count": null,
   "metadata": {},
   "outputs": [],
   "source": []
  }
 ],
 "metadata": {
  "kernelspec": {
   "display_name": "Python 3 (ipykernel)",
   "language": "python",
   "name": "python3"
  },
  "language_info": {
   "codemirror_mode": {
    "name": "ipython",
    "version": 3
   },
   "file_extension": ".py",
   "mimetype": "text/x-python",
   "name": "python",
   "nbconvert_exporter": "python",
   "pygments_lexer": "ipython3",
   "version": "3.12.7"
  }
 },
 "nbformat": 4,
 "nbformat_minor": 4
}
